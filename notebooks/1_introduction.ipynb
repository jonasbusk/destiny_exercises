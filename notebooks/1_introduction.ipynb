{
 "cells": [
  {
   "cell_type": "markdown",
   "metadata": {},
   "source": [
    "# Introduction\n",
    "\n",
    "These exercises provide a brief introduction to some basic machine learning concepts.\n",
    "Throughout the exercises we will focus on applying a simple Gaussian process regression (GPR) model. \n",
    "After doing these exercises you should have a basic understanding of how to train and evaluate a simple regression model and apply the model in prediction, active learning and Bayesian optimization settings.\n",
    "\n",
    "The exercises are provided as a series of Python notebooks (like the one you are reading now) that let you write and run code.\n",
    "Some basic understanding of Python programming is assumed.\n",
    "\n",
    "List of exercises:\n",
    "\n",
    "1. Introduction (you are here).\n",
    "1. GPR basics [optional]\n",
    "1. GPR prediction and evaluation.\n",
    "1. GPR active learning.\n",
    "1. GPR Bayesian optimisation.\n",
    "\n",
    "In each exercise we encourage you to familiarize yourself with the code and think about the results. You are also encouraged to experiment with modifying the code and changing different input values to see how they affect the output. You can also refer to the documentation of the packages we use for additional information. You will likely learn much more this way than if you just run the code and read the instructions."
   ]
  },
  {
   "cell_type": "markdown",
   "metadata": {},
   "source": [
    "## A very brief introduction to Python notebooks\n",
    "\n",
    "In case you are new to Python notebooks here is a *very* brief introduction:\n",
    "\n",
    "Notebooks (like the one you are reading now) allow you to combine executable code and rich text in a single document.\n",
    "A notebook is made up of a sequence of cells that can contain either text in markdown format (like this cell) or code like the cell below."
   ]
  },
  {
   "cell_type": "code",
   "execution_count": null,
   "metadata": {},
   "outputs": [],
   "source": [
    "seconds_in_a_day = 24 * 60 * 60\n",
    "print(f\"There are {seconds_in_a_day} seconds in a day.\")\n"
   ]
  },
  {
   "cell_type": "markdown",
   "metadata": {},
   "source": [
    "To execute the code in the above cell, select it with a click and then either press the play button, or use the keyboard shortcut 'Shift/Command/Ctrl+Enter'.\n",
    "The output of the code (if any) is shown directly underneath the cell.\n",
    "To edit the code, just click the cell and start editing.\n",
    "\n",
    "Variables that are defined in one cell can later be used in other cells:"
   ]
  },
  {
   "cell_type": "code",
   "execution_count": null,
   "metadata": {},
   "outputs": [],
   "source": [
    "print(f\"There are still {seconds_in_a_day} seconds in a day.\")\n"
   ]
  },
  {
   "cell_type": "markdown",
   "metadata": {},
   "source": [
    "And that is basically all there is to it...\n"
   ]
  }
 ],
 "metadata": {
  "kernelspec": {
   "display_name": "botorch",
   "language": "python",
   "name": "python3"
  },
  "language_info": {
   "codemirror_mode": {
    "name": "ipython",
    "version": 3
   },
   "file_extension": ".py",
   "mimetype": "text/x-python",
   "name": "python",
   "nbconvert_exporter": "python",
   "pygments_lexer": "ipython3",
   "version": "3.10.10"
  }
 },
 "nbformat": 4,
 "nbformat_minor": 2
}
